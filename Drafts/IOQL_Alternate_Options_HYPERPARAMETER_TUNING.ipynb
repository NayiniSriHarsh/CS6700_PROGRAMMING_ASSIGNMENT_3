{
 "cells": [
  {
   "cell_type": "markdown",
   "metadata": {
    "id": "pn7PKu9r0asK"
   },
   "source": [
    "# SMDP_IOQL"
   ]
  },
  {
   "cell_type": "code",
   "execution_count": 1,
   "metadata": {
    "id": "P_DODRgW_ZKS"
   },
   "outputs": [],
   "source": [
    "'''\n",
    "A bunch of imports, you don't have to worry about these\n",
    "'''\n",
    "\n",
    "import numpy as np\n",
    "from tqdm import tqdm\n",
    "import random\n",
    "import gym\n",
    "from gym.wrappers import Monitor\n",
    "import glob\n",
    "import io\n",
    "import matplotlib.pyplot as plt\n",
    "from IPython.display import HTML"
   ]
  },
  {
   "cell_type": "code",
   "execution_count": 2,
   "metadata": {
    "colab": {
     "base_uri": "https://localhost:8080/"
    },
    "id": "fYNA5kiH_esJ",
    "outputId": "626ad5c9-8608-4ccb-8b05-f72ca4af8d77"
   },
   "outputs": [
    {
     "name": "stdout",
     "output_type": "stream",
     "text": [
      "State shape: Discrete(500)\n",
      "Number of Actions:  6\n",
      "Sampled Action 0\n",
      "--------------------------------------------------------------------------------\n",
      "Actions:  {0: 'move south', 1: 'move north', 2: 'move east', 3: 'move west', 4: 'pickup passenger', 5: 'drop off passenger'}\n",
      "Passenger_locations:  {0: 'R(ed)', 1: 'G(reen)', 2: 'Y(ellow)', 3: 'B(lue)', 4: 'in taxi'}\n",
      "Destinations:  {0: 'R(ed)', 1: 'G(reen)', 2: 'Y(ellow)', 3: 'B(lue)'}\n",
      "--------------------------------------------------------------------------------\n",
      "Current_State:  489\n",
      "Decoded Current_State [taxi_row, taxi_col, passenger_location, destination]:  [4, 4, 2, 1]\n",
      "+---------+\n",
      "|R: | : :\u001b[35mG\u001b[0m|\n",
      "| : | : : |\n",
      "| : : : : |\n",
      "| | : | : |\n",
      "|\u001b[34;1mY\u001b[0m| : |B:\u001b[43m \u001b[0m|\n",
      "+---------+\n",
      "\n",
      "None\n",
      "--------------------------------------------------------------------------------\n",
      "Sampled Action:  2\n",
      "--------------------------------------------------------------------------------\n",
      "Next_State:  489\n",
      "Decoded Next_State [taxi_row, taxi_col, passenger_location, destination]:  [4, 4, 2, 1]\n",
      "Reward:  -1\n",
      "Done:  False\n",
      "Info:  {'prob': 1.0}\n",
      "--------------------------------------------------------------------------------\n",
      "+---------+\n",
      "|R: | : :\u001b[35mG\u001b[0m|\n",
      "| : | : : |\n",
      "| : : : : |\n",
      "| | : | : |\n",
      "|\u001b[34;1mY\u001b[0m| : |B:\u001b[43m \u001b[0m|\n",
      "+---------+\n",
      "  (East)\n",
      "None\n",
      "--------------------------------------------------------------------------------\n"
     ]
    }
   ],
   "source": [
    "'''\n",
    "The environment used here is extremely similar to the openai gym ones.\n",
    "At first glance it might look slightly different. \n",
    "The usual commands we use for our experiments are added to this cell to aid you\n",
    "work using this environment.\n",
    "'''\n",
    "\n",
    "#Setting up the environment\n",
    "import gym\n",
    "env = gym.make('Taxi-v3')\n",
    "\n",
    "#env.seed(0)\n",
    "\n",
    "state_shape = env.observation_space\n",
    "no_of_actions = env.action_space.n\n",
    "\n",
    "print(\"State shape:\", state_shape)\n",
    "print(\"Number of Actions: \",no_of_actions)\n",
    "print(\"Sampled Action\",env.action_space.sample())\n",
    "print(\"----\"*20)\n",
    "\n",
    "'''\n",
    "# Understanding State, Action, Reward Dynamics\n",
    "\n",
    "The agent decides an action to take depending on the state.\n",
    "\n",
    "The Environment keeps a variable specifically for the current state.\n",
    "- Everytime an action is passed to the environment, it calculates the new state and updates the current state variable.\n",
    "- It returns the new current state and reward for the agent to take the next action\n",
    "\n",
    "'''\n",
    "Passenger_locations = {0:\"R(ed)\",1:\"G(reen)\",2:\"Y(ellow)\",3:\"B(lue)\",4:\"in taxi\"}\n",
    "Destinations = {0:\"R(ed)\",1:\"G(reen)\",2:\"Y(ellow)\",3:\"B(lue)\"}\n",
    "Actions = {0: \"move south\", 1: \"move north\", 2: \"move east\", 3: \"move west\", 4: \"pickup passenger\",5: \"drop off passenger\"}\n",
    "print(\"Actions: \",Actions)\n",
    "print(\"Passenger_locations: \",Passenger_locations)\n",
    "print(\"Destinations: \",Destinations)\n",
    "print(\"----\"*20)\n",
    "state = env.reset()\n",
    "''' This returns the initial state (when environment is reset) '''\n",
    "\n",
    "print(\"Current_State: \",state)\n",
    "print(\"Decoded Current_State [taxi_row, taxi_col, passenger_location, destination]: \",list(env.decode(state)))\n",
    "print(env.render())\n",
    "print(\"----\"*20)\n",
    "\n",
    "action = env.action_space.sample()\n",
    "''' We take a random action now '''\n",
    "\n",
    "print(\"Sampled Action: \", action)\n",
    "print(\"----\"*20)\n",
    "\n",
    "next_state, reward, done, info = env.step(action)\n",
    "''' env.step is used to calculate new state and obtain reward based on old state and action taken  '''\n",
    "\n",
    "print(\"Next_State: \",next_state)\n",
    "print(\"Decoded Next_State [taxi_row, taxi_col, passenger_location, destination]: \",list(env.decode(next_state)))\n",
    "print(\"Reward: \",reward)\n",
    "print(\"Done: \", done)\n",
    "print(\"Info: \", info)\n",
    "print(\"----\"*20)\n",
    "\n",
    "print(env.render())\n",
    "print(\"----\"*20)"
   ]
  },
  {
   "cell_type": "code",
   "execution_count": 3,
   "metadata": {},
   "outputs": [
    {
     "data": {
      "text/plain": [
       "(500, 6)"
      ]
     },
     "execution_count": 3,
     "metadata": {},
     "output_type": "execute_result"
    }
   ],
   "source": [
    "env.nS,env.nA"
   ]
  },
  {
   "cell_type": "markdown",
   "metadata": {},
   "source": [
    "State = ((taxi_row * 5 + taxi_col) * 5 + passenger_location) * 4 + destination"
   ]
  },
  {
   "cell_type": "markdown",
   "metadata": {
    "id": "apuaOxavDXus"
   },
   "source": [
    "## Actions and Options\n",
    "##### Actions: There are 6 discrete deterministic actions: 0: move south; 1: move north; 2: move east; 3: move west; 4: pick passenger up; and 5: drop passenger off.\n",
    "##### Options: Options to move the taxi to each of the four designated locations, executable when the taxi is not already there. i.e [move_to_11,move_to_12]\n"
   ]
  },
  {
   "cell_type": "code",
   "execution_count": 4,
   "metadata": {},
   "outputs": [],
   "source": [
    "    \n",
    "'''\n",
    "Now the new action space will contain\n",
    "Primitive Actions: [\"up\", \"right\", \"down\", \"left\", \"pickup\", \"drop off\"]\n",
    "Options: [\"move_to_R\",\"move_to_G\",\"move_to_Y\",\"move_to_B\"]\n",
    "Total Actions :[\"up\", \"right\", \"down\", \"left\", \"pickup\", \"drop off\", \"move_to_R\",\"move_to_G\",\"move_to_Y\",\"move_to_B\"]\n",
    "Corresponding to [0,1,2,3,4,5,6,7,8,9]\n",
    "'''\n",
    "policy_11 = np.array([[0, 0, 0, 0, 0], [0, 0, 0, 0, 0], [2, 0, 3, 3, 3], [1, 1, 1, 1, 1], [1, 1, 1, 1, 1]])\n",
    "policy_12 = np.array([[0, 0, 0, 0, 0], [0, 0, 0, 0, 0], [2, 2, 0, 3, 3], [1, 1, 1, 1, 1], [1, 1, 1, 1, 1]])\n",
    "\n",
    "Options_Policy = np.array([policy_11, policy_12])"
   ]
  },
  {
   "cell_type": "code",
   "execution_count": 5,
   "metadata": {},
   "outputs": [],
   "source": [
    "def plot_policy(policy,message = \"Policy plot\"):\n",
    "        DOWN = 0\n",
    "        UP = 1\n",
    "        LEFT = 3\n",
    "        RIGHT = 2\n",
    "\n",
    "        plt.title(message,fontsize=18)\n",
    "        plt.pcolor(policy, edgecolors='k', linewidths=2) #,cmap=\"rainbow\"\n",
    "        plt.colorbar()\n",
    "        def x_direct(a):\n",
    "            if a in [UP, DOWN]:\n",
    "                return 0\n",
    "            return 1 if a == RIGHT else -1\n",
    "        def y_direct(a):\n",
    "            if a in [RIGHT, LEFT]:\n",
    "                return 0\n",
    "            return 1 if a == UP else -1\n",
    "        policyx = np.vectorize(x_direct)(policy)\n",
    "        policyy = np.vectorize(y_direct)(policy)\n",
    "        idx = np.indices(policy.shape)\n",
    "        plt.quiver(idx[1].ravel()+0.5, idx[0].ravel()+0.5, policyx.ravel(), policyy.ravel(), pivot=\"middle\", color='red')\n",
    "        plt.xticks(fontsize=16)\n",
    "        plt.yticks(fontsize=16)\n",
    "        ax = plt.gca()\n",
    "        ax.invert_yaxis()"
   ]
  },
  {
   "cell_type": "code",
   "execution_count": 6,
   "metadata": {},
   "outputs": [
    {
     "data": {
      "image/png": "[encoded data removed]",
      "text/plain": [
       "<Figure size 1500x800 with 4 Axes>"
      ]
     },
     "metadata": {},
     "output_type": "display_data"
    }
   ],
   "source": [
    "Options_list = [\"move_to_11\",\"move_to_12\"]\n",
    "plt.figure(figsize=[15,8])\n",
    "for i in range(1,3):\n",
    "    plt.subplot(1,2,i)\n",
    "    plot_policy(Options_Policy[i-1],message=\"Policy for option {}\".format(Options_list[i-1]))"
   ]
  },
  {
   "cell_type": "markdown",
   "metadata": {},
   "source": [
    "# Intra Option Q Learning"
   ]
  },
  {
   "cell_type": "code",
   "execution_count": 7,
   "metadata": {},
   "outputs": [],
   "source": [
    "class Intra_Option_Q_Learning:\n",
    "    def __init__(self, env, num_options=4, Options_Policy=Options_Policy, epsilon_start=0.5, epsilon_decay=0.95, epsilon_end=0.001, gamma=0.9, alpha0=0.4):\n",
    "        self.env = env\n",
    "        self.Q_Options = Options_Policy\n",
    "        self.Destination_Coord = {0:[11//5,11%5],1:[12//5,12%5]}\n",
    "        self.epsilon = epsilon_start\n",
    "        self.epsilon_decay = epsilon_decay\n",
    "        self.epsilon_end = epsilon_end\n",
    "        self.gamma = gamma\n",
    "        self.alpha0 = alpha0\n",
    "        self.q_values_SMDP_Intra = np.zeros([env.nS, env.nA + num_options])\n",
    "        self.update_frequency_SMDP_Intra = np.zeros([env.nS, env.nA + num_options])\n",
    "        self.options_epsilon = [epsilon_start] * num_options\n",
    "        self.num_options = num_options\n",
    "\n",
    "    def egreedy_policy(self, q_values, state, epsilon):\n",
    "        if np.random.rand() < self.epsilon:\n",
    "            return np.random.choice(np.arange(len(q_values[state])))\n",
    "        else:\n",
    "            return np.argmax(q_values[state])\n",
    "\n",
    "    def Options(self, option_num, state):\n",
    "        optact = self.Q_Options[option_num][state // 5, state % 5]\n",
    "        return optact\n",
    "\n",
    "    def update_intraoption_action(self, state, action, next_state, reward):\n",
    "        self.q_values_SMDP_Intra[state][action] += self.alpha0 * (reward + self.gamma * max(self.q_values_SMDP_Intra[next_state]) - self.q_values_SMDP_Intra[state][action])\n",
    "        self.update_frequency_SMDP_Intra[state][action] += 1\n",
    "\n",
    "        state_decoded = list(self.env.decode(state))\n",
    "        next_state_decoded = list(self.env.decode(next_state))\n",
    "\n",
    "        for option in range(6, 6+self.num_options):\n",
    "            optaction = self.Q_Options[option - 6][state_decoded[0],state_decoded[1]]\n",
    "            next_state_is_terminal = True if [next_state_decoded[0], next_state_decoded[1]] == self.Destination_Coord[option - 6] else False\n",
    "\n",
    "            if optaction == action:\n",
    "                if not next_state_is_terminal:\n",
    "                    self.q_values_SMDP_Intra[state][option] += self.alpha0 * (reward + self.gamma * self.q_values_SMDP_Intra[next_state][option] - self.q_values_SMDP_Intra[state][option])\n",
    "                else:\n",
    "                    self.q_values_SMDP_Intra[state][option] += self.alpha0 * (reward + self.gamma * max(self.q_values_SMDP_Intra[next_state]) - self.q_values_SMDP_Intra[state][option])\n",
    "                self.update_frequency_SMDP_Intra[state][option] += 1\n",
    "\n",
    "    def learn(self, num_epochs):\n",
    "        Total_Rewards = []\n",
    "        for epoch in tqdm(range(num_epochs)):\n",
    "            state = self.env.reset()\n",
    "            done = False\n",
    "            episode_reward = 0\n",
    "\n",
    "            while not done:\n",
    "                action = self.egreedy_policy(self.q_values_SMDP_Intra, state, epsilon=self.epsilon)\n",
    "                self.epsilon = max(self.epsilon_end, self.epsilon * self.epsilon_decay)\n",
    "\n",
    "                if action < self.env.nA:\n",
    "                    next_state, reward, done, _ = self.env.step(action)\n",
    "                    episode_reward += reward\n",
    "                    self.update_intraoption_action(state, action, next_state, reward)\n",
    "                    state = next_state\n",
    "\n",
    "                if action >= self.env.nA:\n",
    "                    option_num = action - self.env.nA\n",
    "                    start_state = np.copy(state)\n",
    "                    start_state_decoded = list(self.env.decode(start_state))\n",
    "                    state_in_option = start_state_decoded[0] * 5 + start_state_decoded[1]\n",
    "                    optdone = False\n",
    "\n",
    "                    while not optdone:\n",
    "                        #print(1)\n",
    "                        optact = self.Options(option_num, state_in_option)\n",
    "                        next_state, reward, done, _ = self.env.step(optact)\n",
    "                        next_state_decoded = list(self.env.decode(next_state))\n",
    "                        next_state_in_option = next_state_decoded[0] * 5 + next_state_decoded[1]\n",
    "                        next_state_coord = [next_state_decoded[0], next_state_decoded[1]]\n",
    "                        episode_reward += reward\n",
    "                        self.update_intraoption_action(state, optact, next_state, reward)\n",
    "                        state_in_option = next_state_in_option\n",
    "                        state = (state_in_option * 5 + start_state_decoded[2]) * 4 + start_state_decoded[3]\n",
    "                        if next_state_coord == self.Destination_Coord[option_num]:\n",
    "                            optdone = True\n",
    "\n",
    "            Total_Rewards.append(episode_reward)\n",
    "        return Total_Rewards, self.q_values_SMDP_Intra, self.update_frequency_SMDP_Intra, self.Q_Options\n",
    "    def test(self,num_of_runs=100):\n",
    "        Total_Rewards = []\n",
    "        Total_Steps = []\n",
    "        for epoch in tqdm(range(num_of_runs)):\n",
    "            #print(epoch)\n",
    "            state = self.env.reset()    \n",
    "            done = False\n",
    "            episode_reward = 0\n",
    "            episode_steps = 0\n",
    "\n",
    "            # While episode is not over\n",
    "            while not done:\n",
    "                # Choose action        \n",
    "                action = np.argmax(self.q_values_SMDP_Intra[state])\n",
    "\n",
    "                # Checking if primitive action\n",
    "                if action < self.env.nA:\n",
    "                    # Perform regular Q-Learning update for state-action pair\n",
    "                    state_next, reward, done, _ = self.env.step(action)\n",
    "                    episode_reward+=reward\n",
    "                    episode_steps+=1\n",
    "                    state = state_next\n",
    "                # Checking if action chosen is an option\n",
    "                if action >= self.env.nA: # action \n",
    "                    option_num = action-self.env.nA\n",
    "                    start_state = np.copy(state)\n",
    "                    start_state_decoded = list(self.env.decode(start_state))\n",
    "                    state_in_option = start_state_decoded[0]*5+start_state_decoded[1]\n",
    "                    optdone = False\n",
    "                    while (optdone == False):\n",
    "                        #print(step)\n",
    "                        #print(option_num,state_in_option)\n",
    "                        optact = self.Options(option_num,state_in_option) \n",
    "                        next_state, reward, done,_ = self.env.step(optact)\n",
    "                        next_state_decoded = list(self.env.decode(next_state))\n",
    "                        next_state_in_option =next_state_decoded[0]*5+next_state_decoded[1]\n",
    "                        next_state_coord = [next_state_decoded[0],next_state_decoded[1]]\n",
    "\n",
    "                        if(next_state_coord==self.Destination_Coord[option_num]):\n",
    "                            optdone = True\n",
    "\n",
    "                        # Is this formulation right? What is this term?\n",
    "                        # The Formulaion is not correct because later states should be discounted more\n",
    "                        episode_reward+=reward\n",
    "                        episode_steps+=1\n",
    "                        state_in_option = next_state_in_option\n",
    "                        \n",
    "                    state = (state_in_option*5 + start_state_decoded[2]) * 4 + start_state_decoded[3]\n",
    "            Total_Rewards.append(episode_reward)\n",
    "            Total_Steps.append(episode_steps)\n",
    "        return Total_Rewards,Total_Steps"
   ]
  },
  {
   "cell_type": "code",
   "execution_count": 8,
   "metadata": {},
   "outputs": [
    {
     "name": "stderr",
     "output_type": "stream",
     "text": [
      "100%|██████████| 10000/10000 [00:04<00:00, 2015.76it/s]\n",
      "100%|██████████| 1000/1000 [00:00<00:00, 4510.69it/s]"
     ]
    },
    {
     "name": "stdout",
     "output_type": "stream",
     "text": [
      "Avg_Test_Rewards = 7.944\n",
      "Avg_Test_Steps = 13.056\n",
      "\n"
     ]
    },
    {
     "name": "stderr",
     "output_type": "stream",
     "text": [
      "\n"
     ]
    }
   ],
   "source": [
    "ioql = Intra_Option_Q_Learning(env,num_options=2,Options_Policy=Options_Policy,epsilon_start=1,epsilon_decay=0.9,epsilon_end=0.001,gamma=0.9,alpha0=0.4)\n",
    "Total_Rewards_Intra,Q_Values_SMDP_Intra,Update_Frequency_SMDP_Intra,Q_Options_Intra = ioql.learn(num_epochs=10000)\n",
    "Total_Test_Rewards,Total_Test_Steps = ioql.test(num_of_runs=1000)\n",
    "print(\"Avg_Test_Rewards = {}\\nAvg_Test_Steps = {}\\n\".format(np.mean(Total_Test_Rewards),np.mean(Total_Test_Steps)))"
   ]
  },
  {
   "cell_type": "markdown",
   "metadata": {},
   "source": [
    "# WandB"
   ]
  },
  {
   "cell_type": "code",
   "execution_count": 9,
   "metadata": {},
   "outputs": [
    {
     "name": "stderr",
     "output_type": "stream",
     "text": [
      "\u001b[34m\u001b[1mwandb\u001b[0m: Currently logged in as: \u001b[33mnayinisriharsh-iitm\u001b[0m. Use \u001b[1m`wandb login --relogin`\u001b[0m to force relogin\n",
      "\u001b[34m\u001b[1mwandb\u001b[0m: \u001b[33mWARNING\u001b[0m If you're specifying your api key in code, ensure this code is not shared publicly.\n",
      "\u001b[34m\u001b[1mwandb\u001b[0m: \u001b[33mWARNING\u001b[0m Consider setting the WANDB_API_KEY environment variable, or running `wandb login` from the command line.\n",
      "\u001b[34m\u001b[1mwandb\u001b[0m: Appending key for api.wandb.ai to your netrc file: C:\\Users\\nayin\\.netrc\n"
     ]
    },
    {
     "data": {
      "text/plain": [
       "True"
      ]
     },
     "execution_count": 9,
     "metadata": {},
     "output_type": "execute_result"
    }
   ],
   "source": [
    "import wandb\n",
    "wandb.login(key = \"8545e71f98dc96fbac53295facb12404fc77016d\")"
   ]
  },
  {
   "cell_type": "code",
   "execution_count": 10,
   "metadata": {},
   "outputs": [],
   "source": [
    "def train_and_tune(config=None):\n",
    "  # Initialize a new wandb run\n",
    "  with wandb.init(config=config):\n",
    "    # If called by wandb.agent, as below,\n",
    "    # this config will be set by Sweep Controller\n",
    "    config = wandb.config\n",
    "    wandb.run.name='eps'+str(config.epsilon_start)+'-epd'+str(config.epsilon_decay)+'-epe'+str(config.epsilon_end)+'-gm'+str(config.gamma)+'alp'+str(config.alpha0)\n",
    "    env = gym.make('Taxi-v3')\n",
    "    ioql = Intra_Option_Q_Learning(env,num_options=2,Options_Policy=Options_Policy,epsilon_start=config.epsilon_start,epsilon_decay=config.epsilon_decay,epsilon_end=config.epsilon_end,gamma=config.gamma,alpha0=config.alpha0)\n",
    "    Total_Rewards,Q_Values_SMDP,Update_Frequency_SMDP,Q_Options_SMDP = ioql.learn(num_epochs=10000)\n",
    "    Total_Test_Rewards,Total_Test_Steps = ioql.test(num_of_runs=1000)\n",
    "    #wandb.log({\"train_mean_reward\":rewards,\"train_mean_steps\":steps,\"test_mean_reward\":r,\"train_mean_steps\":s})\n",
    "    #data = [[x, y] for (x, y) in zip(np.arange(config.episodes), rewards)]\n",
    "    #table1 = wandb.Table(data=data, columns=[\"x\", \"y\"])\n",
    "    #data = [[x, y] for (x, y) in zip(np.arange(config.episodes), steps)]\n",
    "    #table2 = wandb.Table(data=data, columns=[\"x\", \"y\"])\n",
    "    wandb.log(\n",
    "        {\n",
    "            \"avg_reward\":np.mean(Total_Test_Rewards),'avg_steps':np.mean(Total_Test_Steps) #,\"train_reward\": wandb.plot.line(table1, \"x\", \"y\", title=\"Reward vs Episode\"),\"train_steps\": wandb.plot.line(table2, \"x\", \"y\", title=\"Steps vs Episode\"),\n",
    "        }\n",
    "    )"
   ]
  },
  {
   "cell_type": "code",
   "execution_count": 11,
   "metadata": {},
   "outputs": [
    {
     "name": "stdout",
     "output_type": "stream",
     "text": [
      "{'method': 'bayes',\n",
      " 'metric': {'goal': 'maximize', 'name': 'avg_reward'},\n",
      " 'parameters': {'alpha0': {'values': [0.3, 0.4, 0.5]},\n",
      "                'epsilon_decay': {'values': [0.95, 0.9, 0.85]},\n",
      "                'epsilon_end': {'values': [0.001, 0.0001]},\n",
      "                'epsilon_start': {'values': [0.5, 1]},\n",
      "                'gamma': {'values': [0.99, 0.95, 0.9, 0.85]}}}\n",
      "Create sweep with ID: iivnt4nc\n",
      "Sweep URL: https://wandb.ai/nayinisriharsh-iitm/CS6700_PROGRAMMING_ASSIGNMENT_3/sweeps/iivnt4nc\n"
     ]
    }
   ],
   "source": [
    "sweep_config={'method':'bayes',\n",
    "              'metric' : {\n",
    "                  'name':'avg_reward',\n",
    "                  'goal':'maximize'},\n",
    "              'parameters':{\n",
    "                  'epsilon_start':{'values':[0.5,1]},\n",
    "                  'epsilon_decay':{'values':[0.95,0.9,0.85]},\n",
    "                  'epsilon_end' :{'values':[0.001,0.0001]},\n",
    "                  'gamma' : {'values':[0.99,0.95,0.9,0.85]},\n",
    "                  'alpha0': {'values':[0.3,0.4,0.5]}\n",
    "                  }}\n",
    "import pprint\n",
    "pprint.pprint(sweep_config)\n",
    "sweep_id=wandb.sweep(sweep_config,project=\"CS6700_PROGRAMMING_ASSIGNMENT_3\")"
   ]
  },
  {
   "cell_type": "code",
   "execution_count": null,
   "metadata": {},
   "outputs": [
    {
     "name": "stderr",
     "output_type": "stream",
     "text": [
      "\u001b[34m\u001b[1mwandb\u001b[0m: Agent Starting Run: f1dfrdeh with config:\n",
      "\u001b[34m\u001b[1mwandb\u001b[0m: \talpha0: 0.3\n",
      "\u001b[34m\u001b[1mwandb\u001b[0m: \tepsilon_decay: 0.85\n",
      "\u001b[34m\u001b[1mwandb\u001b[0m: \tepsilon_end: 0.0001\n",
      "\u001b[34m\u001b[1mwandb\u001b[0m: \tepsilon_start: 1\n",
      "\u001b[34m\u001b[1mwandb\u001b[0m: \tgamma: 0.99\n"
     ]
    },
    {
     "data": {
      "text/html": [
       "wandb version 0.16.6 is available!  To upgrade, please run:\n",
       " $ pip install wandb --upgrade"
      ],
      "text/plain": [
       "<IPython.core.display.HTML object>"
      ]
     },
     "metadata": {},
     "output_type": "display_data"
    },
    {
     "data": {
      "text/html": [
       "Tracking run with wandb version 0.16.4"
      ],
      "text/plain": [
       "<IPython.core.display.HTML object>"
      ]
     },
     "metadata": {},
     "output_type": "display_data"
    },
    {
     "data": {
      "text/html": [
       "Run data is saved locally in <code>C:\\Users\\nayin\\Documents\\JAN-MAY 2024\\RL\\Programming_Assignment_3\\wandb\\run-20240419_152310-f1dfrdeh</code>"
      ],
      "text/plain": [
       "<IPython.core.display.HTML object>"
      ]
     },
     "metadata": {},
     "output_type": "display_data"
    },
    {
     "data": {
      "text/html": [
       "Syncing run <strong><a href='https://wandb.ai/nayinisriharsh-iitm/CS6700_PROGRAMMING_ASSIGNMENT_3/runs/f1dfrdeh' target=\"_blank\">sleek-sweep-1</a></strong> to <a href='https://wandb.ai/nayinisriharsh-iitm/CS6700_PROGRAMMING_ASSIGNMENT_3' target=\"_blank\">Weights & Biases</a> (<a href='https://wandb.me/run' target=\"_blank\">docs</a>)<br/>Sweep page: <a href='https://wandb.ai/nayinisriharsh-iitm/CS6700_PROGRAMMING_ASSIGNMENT_3/sweeps/iivnt4nc' target=\"_blank\">https://wandb.ai/nayinisriharsh-iitm/CS6700_PROGRAMMING_ASSIGNMENT_3/sweeps/iivnt4nc</a>"
      ],
      "text/plain": [
       "<IPython.core.display.HTML object>"
      ]
     },
     "metadata": {},
     "output_type": "display_data"
    },
    {
     "data": {
      "text/html": [
       " View project at <a href='https://wandb.ai/nayinisriharsh-iitm/CS6700_PROGRAMMING_ASSIGNMENT_3' target=\"_blank\">https://wandb.ai/nayinisriharsh-iitm/CS6700_PROGRAMMING_ASSIGNMENT_3</a>"
      ],
      "text/plain": [
       "<IPython.core.display.HTML object>"
      ]
     },
     "metadata": {},
     "output_type": "display_data"
    },
    {
     "data": {
      "text/html": [
       " View sweep at <a href='https://wandb.ai/nayinisriharsh-iitm/CS6700_PROGRAMMING_ASSIGNMENT_3/sweeps/iivnt4nc' target=\"_blank\">https://wandb.ai/nayinisriharsh-iitm/CS6700_PROGRAMMING_ASSIGNMENT_3/sweeps/iivnt4nc</a>"
      ],
      "text/plain": [
       "<IPython.core.display.HTML object>"
      ]
     },
     "metadata": {},
     "output_type": "display_data"
    },
    {
     "data": {
      "text/html": [
       " View run at <a href='https://wandb.ai/nayinisriharsh-iitm/CS6700_PROGRAMMING_ASSIGNMENT_3/runs/f1dfrdeh' target=\"_blank\">https://wandb.ai/nayinisriharsh-iitm/CS6700_PROGRAMMING_ASSIGNMENT_3/runs/f1dfrdeh</a>"
      ],
      "text/plain": [
       "<IPython.core.display.HTML object>"
      ]
     },
     "metadata": {},
     "output_type": "display_data"
    },
    {
     "name": "stderr",
     "output_type": "stream",
     "text": [
      "100%|██████████| 10000/10000 [00:05<00:00, 1974.29it/s]\n",
      "100%|██████████| 1000/1000 [00:00<00:00, 5596.02it/s]\n"
     ]
    },
    {
     "data": {
      "application/vnd.jupyter.widget-view+json": {
       "model_id": "",
       "version_major": 2,
       "version_minor": 0
      },
      "text/plain": [
       "VBox(children=(Label(value='0.001 MB of 0.001 MB uploaded\\r'), FloatProgress(value=1.0, max=1.0)))"
      ]
     },
     "metadata": {},
     "output_type": "display_data"
    },
    {
     "data": {
      "text/html": [
       "<style>\n",
       "    table.wandb td:nth-child(1) { padding: 0 10px; text-align: left ; width: auto;} td:nth-child(2) {text-align: left ; width: 100%}\n",
       "    .wandb-row { display: flex; flex-direction: row; flex-wrap: wrap; justify-content: flex-start; width: 100% }\n",
       "    .wandb-col { display: flex; flex-direction: column; flex-basis: 100%; flex: 1; padding: 10px; }\n",
       "    </style>\n",
       "<div class=\"wandb-row\"><div class=\"wandb-col\"><h3>Run history:</h3><br/><table class=\"wandb\"><tr><td>avg_reward</td><td>▁</td></tr><tr><td>avg_steps</td><td>▁</td></tr></table><br/></div><div class=\"wandb-col\"><h3>Run summary:</h3><br/><table class=\"wandb\"><tr><td>avg_reward</td><td>8.003</td></tr><tr><td>avg_steps</td><td>12.997</td></tr></table><br/></div></div>"
      ],
      "text/plain": [
       "<IPython.core.display.HTML object>"
      ]
     },
     "metadata": {},
     "output_type": "display_data"
    },
    {
     "data": {
      "text/html": [
       " View run <strong style=\"color:#cdcd00\">sleek-sweep-1</strong> at: <a href='https://wandb.ai/nayinisriharsh-iitm/CS6700_PROGRAMMING_ASSIGNMENT_3/runs/f1dfrdeh' target=\"_blank\">https://wandb.ai/nayinisriharsh-iitm/CS6700_PROGRAMMING_ASSIGNMENT_3/runs/f1dfrdeh</a><br/>Synced 6 W&B file(s), 0 media file(s), 0 artifact file(s) and 0 other file(s)"
      ],
      "text/plain": [
       "<IPython.core.display.HTML object>"
      ]
     },
     "metadata": {},
     "output_type": "display_data"
    },
    {
     "data": {
      "text/html": [
       "Find logs at: <code>.\\wandb\\run-20240419_152310-f1dfrdeh\\logs</code>"
      ],
      "text/plain": [
       "<IPython.core.display.HTML object>"
      ]
     },
     "metadata": {},
     "output_type": "display_data"
    },
    {
     "name": "stderr",
     "output_type": "stream",
     "text": [
      "\u001b[34m\u001b[1mwandb\u001b[0m: Sweep Agent: Waiting for job.\n",
      "\u001b[34m\u001b[1mwandb\u001b[0m: Job received.\n",
      "\u001b[34m\u001b[1mwandb\u001b[0m: Agent Starting Run: d2n1vjmt with config:\n",
      "\u001b[34m\u001b[1mwandb\u001b[0m: \talpha0: 0.3\n",
      "\u001b[34m\u001b[1mwandb\u001b[0m: \tepsilon_decay: 0.9\n",
      "\u001b[34m\u001b[1mwandb\u001b[0m: \tepsilon_end: 0.0001\n",
      "\u001b[34m\u001b[1mwandb\u001b[0m: \tepsilon_start: 0.5\n",
      "\u001b[34m\u001b[1mwandb\u001b[0m: \tgamma: 0.99\n"
     ]
    },
    {
     "data": {
      "text/html": [
       "wandb version 0.16.6 is available!  To upgrade, please run:\n",
       " $ pip install wandb --upgrade"
      ],
      "text/plain": [
       "<IPython.core.display.HTML object>"
      ]
     },
     "metadata": {},
     "output_type": "display_data"
    },
    {
     "data": {
      "text/html": [
       "Tracking run with wandb version 0.16.4"
      ],
      "text/plain": [
       "<IPython.core.display.HTML object>"
      ]
     },
     "metadata": {},
     "output_type": "display_data"
    },
    {
     "data": {
      "text/html": [
       "Run data is saved locally in <code>C:\\Users\\nayin\\Documents\\JAN-MAY 2024\\RL\\Programming_Assignment_3\\wandb\\run-20240419_152358-d2n1vjmt</code>"
      ],
      "text/plain": [
       "<IPython.core.display.HTML object>"
      ]
     },
     "metadata": {},
     "output_type": "display_data"
    },
    {
     "data": {
      "text/html": [
       "Syncing run <strong><a href='https://wandb.ai/nayinisriharsh-iitm/CS6700_PROGRAMMING_ASSIGNMENT_3/runs/d2n1vjmt' target=\"_blank\">serene-sweep-2</a></strong> to <a href='https://wandb.ai/nayinisriharsh-iitm/CS6700_PROGRAMMING_ASSIGNMENT_3' target=\"_blank\">Weights & Biases</a> (<a href='https://wandb.me/run' target=\"_blank\">docs</a>)<br/>Sweep page: <a href='https://wandb.ai/nayinisriharsh-iitm/CS6700_PROGRAMMING_ASSIGNMENT_3/sweeps/iivnt4nc' target=\"_blank\">https://wandb.ai/nayinisriharsh-iitm/CS6700_PROGRAMMING_ASSIGNMENT_3/sweeps/iivnt4nc</a>"
      ],
      "text/plain": [
       "<IPython.core.display.HTML object>"
      ]
     },
     "metadata": {},
     "output_type": "display_data"
    },
    {
     "data": {
      "text/html": [
       " View project at <a href='https://wandb.ai/nayinisriharsh-iitm/CS6700_PROGRAMMING_ASSIGNMENT_3' target=\"_blank\">https://wandb.ai/nayinisriharsh-iitm/CS6700_PROGRAMMING_ASSIGNMENT_3</a>"
      ],
      "text/plain": [
       "<IPython.core.display.HTML object>"
      ]
     },
     "metadata": {},
     "output_type": "display_data"
    },
    {
     "data": {
      "text/html": [
       " View sweep at <a href='https://wandb.ai/nayinisriharsh-iitm/CS6700_PROGRAMMING_ASSIGNMENT_3/sweeps/iivnt4nc' target=\"_blank\">https://wandb.ai/nayinisriharsh-iitm/CS6700_PROGRAMMING_ASSIGNMENT_3/sweeps/iivnt4nc</a>"
      ],
      "text/plain": [
       "<IPython.core.display.HTML object>"
      ]
     },
     "metadata": {},
     "output_type": "display_data"
    },
    {
     "data": {
      "text/html": [
       " View run at <a href='https://wandb.ai/nayinisriharsh-iitm/CS6700_PROGRAMMING_ASSIGNMENT_3/runs/d2n1vjmt' target=\"_blank\">https://wandb.ai/nayinisriharsh-iitm/CS6700_PROGRAMMING_ASSIGNMENT_3/runs/d2n1vjmt</a>"
      ],
      "text/plain": [
       "<IPython.core.display.HTML object>"
      ]
     },
     "metadata": {},
     "output_type": "display_data"
    },
    {
     "name": "stderr",
     "output_type": "stream",
     "text": [
      "100%|██████████| 10000/10000 [00:04<00:00, 2207.42it/s]\n",
      "100%|██████████| 1000/1000 [00:00<00:00, 5554.32it/s]\n"
     ]
    },
    {
     "data": {
      "application/vnd.jupyter.widget-view+json": {
       "model_id": "",
       "version_major": 2,
       "version_minor": 0
      },
      "text/plain": [
       "VBox(children=(Label(value='0.001 MB of 0.001 MB uploaded\\r'), FloatProgress(value=1.0, max=1.0)))"
      ]
     },
     "metadata": {},
     "output_type": "display_data"
    },
    {
     "data": {
      "text/html": [
       "<style>\n",
       "    table.wandb td:nth-child(1) { padding: 0 10px; text-align: left ; width: auto;} td:nth-child(2) {text-align: left ; width: 100%}\n",
       "    .wandb-row { display: flex; flex-direction: row; flex-wrap: wrap; justify-content: flex-start; width: 100% }\n",
       "    .wandb-col { display: flex; flex-direction: column; flex-basis: 100%; flex: 1; padding: 10px; }\n",
       "    </style>\n",
       "<div class=\"wandb-row\"><div class=\"wandb-col\"><h3>Run history:</h3><br/><table class=\"wandb\"><tr><td>avg_reward</td><td>▁</td></tr><tr><td>avg_steps</td><td>▁</td></tr></table><br/></div><div class=\"wandb-col\"><h3>Run summary:</h3><br/><table class=\"wandb\"><tr><td>avg_reward</td><td>7.79</td></tr><tr><td>avg_steps</td><td>13.21</td></tr></table><br/></div></div>"
      ],
      "text/plain": [
       "<IPython.core.display.HTML object>"
      ]
     },
     "metadata": {},
     "output_type": "display_data"
    },
    {
     "data": {
      "text/html": [
       " View run <strong style=\"color:#cdcd00\">serene-sweep-2</strong> at: <a href='https://wandb.ai/nayinisriharsh-iitm/CS6700_PROGRAMMING_ASSIGNMENT_3/runs/d2n1vjmt' target=\"_blank\">https://wandb.ai/nayinisriharsh-iitm/CS6700_PROGRAMMING_ASSIGNMENT_3/runs/d2n1vjmt</a><br/>Synced 6 W&B file(s), 0 media file(s), 0 artifact file(s) and 0 other file(s)"
      ],
      "text/plain": [
       "<IPython.core.display.HTML object>"
      ]
     },
     "metadata": {},
     "output_type": "display_data"
    },
    {
     "data": {
      "text/html": [
       "Find logs at: <code>.\\wandb\\run-20240419_152358-d2n1vjmt\\logs</code>"
      ],
      "text/plain": [
       "<IPython.core.display.HTML object>"
      ]
     },
     "metadata": {},
     "output_type": "display_data"
    }
   ],
   "source": [
    "wandb.agent(sweep_id,train_and_tune,count=40)"
   ]
  }
 ],
 "metadata": {
  "accelerator": "GPU",
  "colab": {
   "collapsed_sections": [
    "5LBh6_lOVBdN"
   ],
   "name": "Tutorial 5 - Options Intro",
   "provenance": []
  },
  "kernelspec": {
   "display_name": "Python 3 (ipykernel)",
   "language": "python",
   "name": "python3"
  },
  "language_info": {
   "codemirror_mode": {
    "name": "ipython",
    "version": 3
   },
   "file_extension": ".py",
   "mimetype": "text/x-python",
   "name": "python",
   "nbconvert_exporter": "python",
   "pygments_lexer": "ipython3",
   "version": "3.9.13"
  }
 },
 "nbformat": 4,
 "nbformat_minor": 4
}
